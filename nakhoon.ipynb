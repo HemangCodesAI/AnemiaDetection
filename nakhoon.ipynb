{
 "cells": [
  {
   "cell_type": "code",
   "execution_count": 10,
   "metadata": {},
   "outputs": [
    {
     "name": "stdout",
     "output_type": "stream",
     "text": [
      "go\n"
     ]
    }
   ],
   "source": [
    "print(\"go\")"
   ]
  },
  {
   "cell_type": "code",
   "execution_count": 11,
   "metadata": {},
   "outputs": [],
   "source": [
    "import tensorflow as tf\n",
    "from tensorflow.keras.preprocessing.image import ImageDataGenerator\n",
    "from sklearn.model_selection import train_test_split\n"
   ]
  },
  {
   "cell_type": "code",
   "execution_count": 12,
   "metadata": {},
   "outputs": [
    {
     "ename": "FileNotFoundError",
     "evalue": "[WinError 3] The system cannot find the path specified: 'train'",
     "output_type": "error",
     "traceback": [
      "\u001b[1;31m---------------------------------------------------------------------------\u001b[0m",
      "\u001b[1;31mFileNotFoundError\u001b[0m                         Traceback (most recent call last)",
      "Cell \u001b[1;32mIn[12], line 23\u001b[0m\n\u001b[0;32m     19\u001b[0m test_data_gen \u001b[38;5;241m=\u001b[39m ImageDataGenerator(rescale\u001b[38;5;241m=\u001b[39m\u001b[38;5;241m1.\u001b[39m\u001b[38;5;241m/\u001b[39m\u001b[38;5;241m255\u001b[39m)\n\u001b[0;32m     21\u001b[0m validation_data_gen \u001b[38;5;241m=\u001b[39m ImageDataGenerator(rescale\u001b[38;5;241m=\u001b[39m\u001b[38;5;241m1.\u001b[39m\u001b[38;5;241m/\u001b[39m\u001b[38;5;241m255\u001b[39m)\n\u001b[1;32m---> 23\u001b[0m train_generator \u001b[38;5;241m=\u001b[39m \u001b[43mtrain_data_gen\u001b[49m\u001b[38;5;241;43m.\u001b[39;49m\u001b[43mflow_from_directory\u001b[49m\u001b[43m(\u001b[49m\n\u001b[0;32m     24\u001b[0m \u001b[43m    \u001b[49m\u001b[43mtrain_dir\u001b[49m\u001b[43m,\u001b[49m\n\u001b[0;32m     25\u001b[0m \u001b[43m    \u001b[49m\u001b[43mtarget_size\u001b[49m\u001b[38;5;241;43m=\u001b[39;49m\u001b[43mimage_size\u001b[49m\u001b[43m,\u001b[49m\n\u001b[0;32m     26\u001b[0m \u001b[43m    \u001b[49m\u001b[43mbatch_size\u001b[49m\u001b[38;5;241;43m=\u001b[39;49m\u001b[43mbatch_size\u001b[49m\u001b[43m,\u001b[49m\n\u001b[0;32m     27\u001b[0m \u001b[43m    \u001b[49m\u001b[43mclass_mode\u001b[49m\u001b[38;5;241;43m=\u001b[39;49m\u001b[38;5;124;43m'\u001b[39;49m\u001b[38;5;124;43mcategorical\u001b[39;49m\u001b[38;5;124;43m'\u001b[39;49m\n\u001b[0;32m     28\u001b[0m \u001b[43m)\u001b[49m\n\u001b[0;32m     30\u001b[0m test_generator \u001b[38;5;241m=\u001b[39m test_data_gen\u001b[38;5;241m.\u001b[39mflow_from_directory(\n\u001b[0;32m     31\u001b[0m     test_dir,\n\u001b[0;32m     32\u001b[0m     target_size\u001b[38;5;241m=\u001b[39mimage_size,\n\u001b[0;32m     33\u001b[0m     batch_size\u001b[38;5;241m=\u001b[39mbatch_size,\n\u001b[0;32m     34\u001b[0m     class_mode\u001b[38;5;241m=\u001b[39m\u001b[38;5;124m'\u001b[39m\u001b[38;5;124mcategorical\u001b[39m\u001b[38;5;124m'\u001b[39m\n\u001b[0;32m     35\u001b[0m )\n\u001b[0;32m     37\u001b[0m validation_generator \u001b[38;5;241m=\u001b[39m validation_data_gen\u001b[38;5;241m.\u001b[39mflow_from_directory(\n\u001b[0;32m     38\u001b[0m     validation_dir,\n\u001b[0;32m     39\u001b[0m     target_size\u001b[38;5;241m=\u001b[39mimage_size,\n\u001b[0;32m     40\u001b[0m     batch_size\u001b[38;5;241m=\u001b[39mbatch_size,\n\u001b[0;32m     41\u001b[0m     class_mode\u001b[38;5;241m=\u001b[39m\u001b[38;5;124m'\u001b[39m\u001b[38;5;124mcategorical\u001b[39m\u001b[38;5;124m'\u001b[39m\n\u001b[0;32m     42\u001b[0m )\n",
      "File \u001b[1;32m~\\AppData\\Roaming\\Python\\Python311\\site-packages\\keras\\src\\preprocessing\\image.py:1648\u001b[0m, in \u001b[0;36mImageDataGenerator.flow_from_directory\u001b[1;34m(self, directory, target_size, color_mode, classes, class_mode, batch_size, shuffle, seed, save_to_dir, save_prefix, save_format, follow_links, subset, interpolation, keep_aspect_ratio)\u001b[0m\n\u001b[0;32m   1562\u001b[0m \u001b[38;5;28;01mdef\u001b[39;00m \u001b[38;5;21mflow_from_directory\u001b[39m(\n\u001b[0;32m   1563\u001b[0m     \u001b[38;5;28mself\u001b[39m,\n\u001b[0;32m   1564\u001b[0m     directory,\n\u001b[1;32m   (...)\u001b[0m\n\u001b[0;32m   1578\u001b[0m     keep_aspect_ratio\u001b[38;5;241m=\u001b[39m\u001b[38;5;28;01mFalse\u001b[39;00m,\n\u001b[0;32m   1579\u001b[0m ):\n\u001b[0;32m   1580\u001b[0m \u001b[38;5;250m    \u001b[39m\u001b[38;5;124;03m\"\"\"Takes the path to a directory & generates batches of augmented data.\u001b[39;00m\n\u001b[0;32m   1581\u001b[0m \n\u001b[0;32m   1582\u001b[0m \u001b[38;5;124;03m    Args:\u001b[39;00m\n\u001b[1;32m   (...)\u001b[0m\n\u001b[0;32m   1646\u001b[0m \u001b[38;5;124;03m            and `y` is a numpy array of corresponding labels.\u001b[39;00m\n\u001b[0;32m   1647\u001b[0m \u001b[38;5;124;03m    \"\"\"\u001b[39;00m\n\u001b[1;32m-> 1648\u001b[0m     \u001b[38;5;28;01mreturn\u001b[39;00m \u001b[43mDirectoryIterator\u001b[49m\u001b[43m(\u001b[49m\n\u001b[0;32m   1649\u001b[0m \u001b[43m        \u001b[49m\u001b[43mdirectory\u001b[49m\u001b[43m,\u001b[49m\n\u001b[0;32m   1650\u001b[0m \u001b[43m        \u001b[49m\u001b[38;5;28;43mself\u001b[39;49m\u001b[43m,\u001b[49m\n\u001b[0;32m   1651\u001b[0m \u001b[43m        \u001b[49m\u001b[43mtarget_size\u001b[49m\u001b[38;5;241;43m=\u001b[39;49m\u001b[43mtarget_size\u001b[49m\u001b[43m,\u001b[49m\n\u001b[0;32m   1652\u001b[0m \u001b[43m        \u001b[49m\u001b[43mcolor_mode\u001b[49m\u001b[38;5;241;43m=\u001b[39;49m\u001b[43mcolor_mode\u001b[49m\u001b[43m,\u001b[49m\n\u001b[0;32m   1653\u001b[0m \u001b[43m        \u001b[49m\u001b[43mkeep_aspect_ratio\u001b[49m\u001b[38;5;241;43m=\u001b[39;49m\u001b[43mkeep_aspect_ratio\u001b[49m\u001b[43m,\u001b[49m\n\u001b[0;32m   1654\u001b[0m \u001b[43m        \u001b[49m\u001b[43mclasses\u001b[49m\u001b[38;5;241;43m=\u001b[39;49m\u001b[43mclasses\u001b[49m\u001b[43m,\u001b[49m\n\u001b[0;32m   1655\u001b[0m \u001b[43m        \u001b[49m\u001b[43mclass_mode\u001b[49m\u001b[38;5;241;43m=\u001b[39;49m\u001b[43mclass_mode\u001b[49m\u001b[43m,\u001b[49m\n\u001b[0;32m   1656\u001b[0m \u001b[43m        \u001b[49m\u001b[43mdata_format\u001b[49m\u001b[38;5;241;43m=\u001b[39;49m\u001b[38;5;28;43mself\u001b[39;49m\u001b[38;5;241;43m.\u001b[39;49m\u001b[43mdata_format\u001b[49m\u001b[43m,\u001b[49m\n\u001b[0;32m   1657\u001b[0m \u001b[43m        \u001b[49m\u001b[43mbatch_size\u001b[49m\u001b[38;5;241;43m=\u001b[39;49m\u001b[43mbatch_size\u001b[49m\u001b[43m,\u001b[49m\n\u001b[0;32m   1658\u001b[0m \u001b[43m        \u001b[49m\u001b[43mshuffle\u001b[49m\u001b[38;5;241;43m=\u001b[39;49m\u001b[43mshuffle\u001b[49m\u001b[43m,\u001b[49m\n\u001b[0;32m   1659\u001b[0m \u001b[43m        \u001b[49m\u001b[43mseed\u001b[49m\u001b[38;5;241;43m=\u001b[39;49m\u001b[43mseed\u001b[49m\u001b[43m,\u001b[49m\n\u001b[0;32m   1660\u001b[0m \u001b[43m        \u001b[49m\u001b[43msave_to_dir\u001b[49m\u001b[38;5;241;43m=\u001b[39;49m\u001b[43msave_to_dir\u001b[49m\u001b[43m,\u001b[49m\n\u001b[0;32m   1661\u001b[0m \u001b[43m        \u001b[49m\u001b[43msave_prefix\u001b[49m\u001b[38;5;241;43m=\u001b[39;49m\u001b[43msave_prefix\u001b[49m\u001b[43m,\u001b[49m\n\u001b[0;32m   1662\u001b[0m \u001b[43m        \u001b[49m\u001b[43msave_format\u001b[49m\u001b[38;5;241;43m=\u001b[39;49m\u001b[43msave_format\u001b[49m\u001b[43m,\u001b[49m\n\u001b[0;32m   1663\u001b[0m \u001b[43m        \u001b[49m\u001b[43mfollow_links\u001b[49m\u001b[38;5;241;43m=\u001b[39;49m\u001b[43mfollow_links\u001b[49m\u001b[43m,\u001b[49m\n\u001b[0;32m   1664\u001b[0m \u001b[43m        \u001b[49m\u001b[43msubset\u001b[49m\u001b[38;5;241;43m=\u001b[39;49m\u001b[43msubset\u001b[49m\u001b[43m,\u001b[49m\n\u001b[0;32m   1665\u001b[0m \u001b[43m        \u001b[49m\u001b[43minterpolation\u001b[49m\u001b[38;5;241;43m=\u001b[39;49m\u001b[43minterpolation\u001b[49m\u001b[43m,\u001b[49m\n\u001b[0;32m   1666\u001b[0m \u001b[43m        \u001b[49m\u001b[43mdtype\u001b[49m\u001b[38;5;241;43m=\u001b[39;49m\u001b[38;5;28;43mself\u001b[39;49m\u001b[38;5;241;43m.\u001b[39;49m\u001b[43mdtype\u001b[49m\u001b[43m,\u001b[49m\n\u001b[0;32m   1667\u001b[0m \u001b[43m    \u001b[49m\u001b[43m)\u001b[49m\n",
      "File \u001b[1;32m~\\AppData\\Roaming\\Python\\Python311\\site-packages\\keras\\src\\preprocessing\\image.py:563\u001b[0m, in \u001b[0;36mDirectoryIterator.__init__\u001b[1;34m(self, directory, image_data_generator, target_size, color_mode, classes, class_mode, batch_size, shuffle, seed, data_format, save_to_dir, save_prefix, save_format, follow_links, subset, interpolation, keep_aspect_ratio, dtype)\u001b[0m\n\u001b[0;32m    561\u001b[0m \u001b[38;5;28;01mif\u001b[39;00m \u001b[38;5;129;01mnot\u001b[39;00m classes:\n\u001b[0;32m    562\u001b[0m     classes \u001b[38;5;241m=\u001b[39m []\n\u001b[1;32m--> 563\u001b[0m     \u001b[38;5;28;01mfor\u001b[39;00m subdir \u001b[38;5;129;01min\u001b[39;00m \u001b[38;5;28msorted\u001b[39m(\u001b[43mos\u001b[49m\u001b[38;5;241;43m.\u001b[39;49m\u001b[43mlistdir\u001b[49m\u001b[43m(\u001b[49m\u001b[43mdirectory\u001b[49m\u001b[43m)\u001b[49m):\n\u001b[0;32m    564\u001b[0m         \u001b[38;5;28;01mif\u001b[39;00m os\u001b[38;5;241m.\u001b[39mpath\u001b[38;5;241m.\u001b[39misdir(os\u001b[38;5;241m.\u001b[39mpath\u001b[38;5;241m.\u001b[39mjoin(directory, subdir)):\n\u001b[0;32m    565\u001b[0m             classes\u001b[38;5;241m.\u001b[39mappend(subdir)\n",
      "\u001b[1;31mFileNotFoundError\u001b[0m: [WinError 3] The system cannot find the path specified: 'train'"
     ]
    }
   ],
   "source": [
    "batch_size = 16\n",
    "image_size = (32,32)  # Adjust the image size as needed\n",
    "\n",
    "train_dir = r'train'\n",
    "test_dir = r'test'\n",
    "validation_dir = r'val'\n",
    "\n",
    "train_data_gen = ImageDataGenerator(\n",
    "    rescale=1./255,\n",
    "    rotation_range=40,\n",
    "    width_shift_range=0.2,\n",
    "    height_shift_range=0.2,\n",
    "    shear_range=0.2,\n",
    "    zoom_range=0.2,\n",
    "    horizontal_flip=True,\n",
    "    fill_mode='nearest'\n",
    ")\n",
    "\n",
    "test_data_gen = ImageDataGenerator(rescale=1./255)\n",
    "\n",
    "validation_data_gen = ImageDataGenerator(rescale=1./255)\n",
    "\n",
    "train_generator = train_data_gen.flow_from_directory(\n",
    "    train_dir,\n",
    "    target_size=image_size,\n",
    "    batch_size=batch_size,\n",
    "    class_mode='categorical'\n",
    ")\n",
    "\n",
    "test_generator = test_data_gen.flow_from_directory(\n",
    "    test_dir,\n",
    "    target_size=image_size,\n",
    "    batch_size=batch_size,\n",
    "    class_mode='categorical'\n",
    ")\n",
    "\n",
    "validation_generator = validation_data_gen.flow_from_directory(\n",
    "    validation_dir,\n",
    "    target_size=image_size,\n",
    "    batch_size=batch_size,\n",
    "    class_mode='categorical'\n",
    ")\n"
   ]
  },
  {
   "cell_type": "code",
   "execution_count": null,
   "metadata": {},
   "outputs": [],
   "source": [
    "model = tf.keras.Sequential([\n",
    "    tf.keras.layers.Conv2D(32, (3, 3), activation='relu', input_shape=(32,32, 3)),\n",
    "    tf.keras.layers.MaxPooling2D((2, 2)),\n",
    "    tf.keras.layers.Conv2D(64, (3, 3), activation='relu'),\n",
    "    tf.keras.layers.MaxPooling2D((2, 2)),\n",
    "    tf.keras.layers.Conv2D(128, (3, 3), activation='relu'),\n",
    "    tf.keras.layers.MaxPooling2D((2, 2)),\n",
    "    tf.keras.layers.Flatten(),\n",
    "    tf.keras.layers.Dense(128, activation='relu'),\n",
    "    tf.keras.layers.Dense(2, activation='softmax')\n",
    "])"
   ]
  },
  {
   "cell_type": "code",
   "execution_count": null,
   "metadata": {},
   "outputs": [],
   "source": [
    "model.compile(optimizer='adam',\n",
    "              loss='categorical_crossentropy',\n",
    "              metrics=['accuracy'])"
   ]
  },
  {
   "cell_type": "code",
   "execution_count": null,
   "metadata": {},
   "outputs": [
    {
     "name": "stdout",
     "output_type": "stream",
     "text": [
      "Epoch 1/50\n",
      "186/186 [==============================] - 4s 20ms/step - loss: 0.6517 - accuracy: 0.6094 - val_loss: 0.6388 - val_accuracy: 0.6125\n",
      "Epoch 2/50\n",
      "186/186 [==============================] - 4s 20ms/step - loss: 0.6416 - accuracy: 0.6334 - val_loss: 0.6376 - val_accuracy: 0.6156\n",
      "Epoch 3/50\n",
      "186/186 [==============================] - 4s 20ms/step - loss: 0.6436 - accuracy: 0.6273 - val_loss: 0.6288 - val_accuracy: 0.6219\n",
      "Epoch 4/50\n",
      "186/186 [==============================] - 4s 20ms/step - loss: 0.6392 - accuracy: 0.6209 - val_loss: 0.6373 - val_accuracy: 0.6328\n",
      "Epoch 5/50\n",
      "186/186 [==============================] - 4s 21ms/step - loss: 0.6333 - accuracy: 0.6462 - val_loss: 0.6306 - val_accuracy: 0.6375\n",
      "Epoch 6/50\n",
      "186/186 [==============================] - 4s 21ms/step - loss: 0.6327 - accuracy: 0.6435 - val_loss: 0.6358 - val_accuracy: 0.6203\n",
      "Epoch 7/50\n",
      "186/186 [==============================] - 4s 21ms/step - loss: 0.6346 - accuracy: 0.6358 - val_loss: 0.6216 - val_accuracy: 0.6391\n",
      "Epoch 8/50\n",
      "186/186 [==============================] - 4s 21ms/step - loss: 0.6296 - accuracy: 0.6428 - val_loss: 0.6208 - val_accuracy: 0.6469\n",
      "Epoch 9/50\n",
      "186/186 [==============================] - 4s 21ms/step - loss: 0.6306 - accuracy: 0.6374 - val_loss: 0.6286 - val_accuracy: 0.6344\n",
      "Epoch 10/50\n",
      "186/186 [==============================] - 4s 21ms/step - loss: 0.6189 - accuracy: 0.6509 - val_loss: 0.6206 - val_accuracy: 0.6422\n",
      "Epoch 11/50\n",
      "186/186 [==============================] - 4s 20ms/step - loss: 0.6266 - accuracy: 0.6513 - val_loss: 0.6189 - val_accuracy: 0.6313\n",
      "Epoch 12/50\n",
      "186/186 [==============================] - 4s 21ms/step - loss: 0.6165 - accuracy: 0.6536 - val_loss: 0.6178 - val_accuracy: 0.6328\n",
      "Epoch 13/50\n",
      "186/186 [==============================] - 4s 21ms/step - loss: 0.6194 - accuracy: 0.6530 - val_loss: 0.5973 - val_accuracy: 0.6438\n",
      "Epoch 14/50\n",
      "186/186 [==============================] - 4s 20ms/step - loss: 0.6207 - accuracy: 0.6479 - val_loss: 0.6022 - val_accuracy: 0.6422\n",
      "Epoch 15/50\n",
      "186/186 [==============================] - 4s 20ms/step - loss: 0.6115 - accuracy: 0.6627 - val_loss: 0.6422 - val_accuracy: 0.6438\n",
      "Epoch 16/50\n",
      "186/186 [==============================] - 4s 20ms/step - loss: 0.6185 - accuracy: 0.6580 - val_loss: 0.5940 - val_accuracy: 0.6469\n",
      "Epoch 17/50\n",
      "186/186 [==============================] - 4s 20ms/step - loss: 0.6092 - accuracy: 0.6631 - val_loss: 0.6003 - val_accuracy: 0.6406\n",
      "Epoch 18/50\n",
      "186/186 [==============================] - 4s 20ms/step - loss: 0.6120 - accuracy: 0.6583 - val_loss: 0.6408 - val_accuracy: 0.5938\n",
      "Epoch 19/50\n",
      "186/186 [==============================] - 4s 20ms/step - loss: 0.6134 - accuracy: 0.6489 - val_loss: 0.6071 - val_accuracy: 0.6375\n",
      "Epoch 20/50\n",
      "186/186 [==============================] - 4s 20ms/step - loss: 0.6051 - accuracy: 0.6651 - val_loss: 0.5885 - val_accuracy: 0.6484\n",
      "Epoch 21/50\n",
      "186/186 [==============================] - 4s 20ms/step - loss: 0.6069 - accuracy: 0.6567 - val_loss: 0.5898 - val_accuracy: 0.6641\n",
      "Epoch 22/50\n",
      "186/186 [==============================] - 4s 20ms/step - loss: 0.5997 - accuracy: 0.6648 - val_loss: 0.6325 - val_accuracy: 0.6109\n",
      "Epoch 23/50\n",
      "186/186 [==============================] - 4s 20ms/step - loss: 0.5984 - accuracy: 0.6641 - val_loss: 0.5835 - val_accuracy: 0.6797\n",
      "Epoch 24/50\n",
      "186/186 [==============================] - 4s 20ms/step - loss: 0.6047 - accuracy: 0.6553 - val_loss: 0.6179 - val_accuracy: 0.5906\n",
      "Epoch 25/50\n",
      "186/186 [==============================] - 4s 20ms/step - loss: 0.5978 - accuracy: 0.6590 - val_loss: 0.6187 - val_accuracy: 0.6266\n",
      "Epoch 26/50\n",
      "186/186 [==============================] - 4s 20ms/step - loss: 0.5924 - accuracy: 0.6840 - val_loss: 0.5792 - val_accuracy: 0.6891\n",
      "Epoch 27/50\n",
      "186/186 [==============================] - 4s 20ms/step - loss: 0.5929 - accuracy: 0.6725 - val_loss: 0.5693 - val_accuracy: 0.7078\n",
      "Epoch 28/50\n",
      "186/186 [==============================] - 4s 20ms/step - loss: 0.5898 - accuracy: 0.6796 - val_loss: 0.5761 - val_accuracy: 0.6750\n",
      "Epoch 29/50\n",
      "186/186 [==============================] - 4s 20ms/step - loss: 0.5867 - accuracy: 0.6755 - val_loss: 0.5793 - val_accuracy: 0.6875\n",
      "Epoch 30/50\n",
      "186/186 [==============================] - 4s 20ms/step - loss: 0.5886 - accuracy: 0.6698 - val_loss: 0.5785 - val_accuracy: 0.6797\n",
      "Epoch 31/50\n",
      "186/186 [==============================] - 4s 20ms/step - loss: 0.5821 - accuracy: 0.6769 - val_loss: 0.6023 - val_accuracy: 0.6391\n",
      "Epoch 32/50\n",
      "186/186 [==============================] - 4s 21ms/step - loss: 0.5852 - accuracy: 0.6776 - val_loss: 0.5699 - val_accuracy: 0.6781\n",
      "Epoch 33/50\n",
      "186/186 [==============================] - 4s 20ms/step - loss: 0.5806 - accuracy: 0.6742 - val_loss: 0.5617 - val_accuracy: 0.6984\n",
      "Epoch 34/50\n",
      "186/186 [==============================] - 4s 21ms/step - loss: 0.5777 - accuracy: 0.6863 - val_loss: 0.5799 - val_accuracy: 0.6703\n",
      "Epoch 35/50\n",
      "186/186 [==============================] - 4s 20ms/step - loss: 0.5836 - accuracy: 0.6691 - val_loss: 0.5775 - val_accuracy: 0.6562\n",
      "Epoch 36/50\n",
      "186/186 [==============================] - 4s 20ms/step - loss: 0.5783 - accuracy: 0.6796 - val_loss: 0.5629 - val_accuracy: 0.6938\n",
      "Epoch 37/50\n",
      "186/186 [==============================] - 4s 20ms/step - loss: 0.5755 - accuracy: 0.6779 - val_loss: 0.5657 - val_accuracy: 0.6859\n",
      "Epoch 38/50\n",
      "186/186 [==============================] - 4s 20ms/step - loss: 0.5808 - accuracy: 0.6745 - val_loss: 0.5724 - val_accuracy: 0.6719\n",
      "Epoch 39/50\n",
      "186/186 [==============================] - 4s 20ms/step - loss: 0.5683 - accuracy: 0.6830 - val_loss: 0.5558 - val_accuracy: 0.7219\n",
      "Epoch 40/50\n",
      "186/186 [==============================] - 4s 20ms/step - loss: 0.5760 - accuracy: 0.6735 - val_loss: 0.5495 - val_accuracy: 0.7141\n",
      "Epoch 41/50\n",
      "186/186 [==============================] - 4s 20ms/step - loss: 0.5625 - accuracy: 0.6874 - val_loss: 0.5686 - val_accuracy: 0.6797\n",
      "Epoch 42/50\n",
      "186/186 [==============================] - 4s 20ms/step - loss: 0.5582 - accuracy: 0.7012 - val_loss: 0.5533 - val_accuracy: 0.6906\n",
      "Epoch 43/50\n",
      "186/186 [==============================] - 4s 20ms/step - loss: 0.5570 - accuracy: 0.7012 - val_loss: 0.5339 - val_accuracy: 0.7063\n",
      "Epoch 44/50\n",
      "186/186 [==============================] - 4s 20ms/step - loss: 0.5518 - accuracy: 0.7103 - val_loss: 0.5556 - val_accuracy: 0.6984\n",
      "Epoch 45/50\n",
      "186/186 [==============================] - 4s 20ms/step - loss: 0.5601 - accuracy: 0.6938 - val_loss: 0.5633 - val_accuracy: 0.6766\n",
      "Epoch 46/50\n",
      "186/186 [==============================] - 4s 20ms/step - loss: 0.5521 - accuracy: 0.6985 - val_loss: 0.6036 - val_accuracy: 0.6594\n",
      "Epoch 47/50\n",
      "186/186 [==============================] - 4s 20ms/step - loss: 0.5524 - accuracy: 0.7110 - val_loss: 0.5406 - val_accuracy: 0.6984\n",
      "Epoch 48/50\n",
      "186/186 [==============================] - 4s 20ms/step - loss: 0.5522 - accuracy: 0.7059 - val_loss: 0.5477 - val_accuracy: 0.6859\n",
      "Epoch 49/50\n",
      "186/186 [==============================] - 4s 20ms/step - loss: 0.5532 - accuracy: 0.7052 - val_loss: 0.5787 - val_accuracy: 0.6703\n",
      "Epoch 50/50\n",
      "186/186 [==============================] - 4s 20ms/step - loss: 0.5614 - accuracy: 0.7005 - val_loss: 0.5268 - val_accuracy: 0.7125\n",
      "40/40 [==============================] - 0s 9ms/step - loss: 0.4912 - accuracy: 0.7433\n",
      "Test accuracy: 74.33%\n"
     ]
    }
   ],
   "source": [
    "\n",
    "# fit 60 epochs pe karna\n",
    "\n",
    "history = model.fit(\n",
    "    train_generator,\n",
    "    steps_per_epoch=train_generator.samples // batch_size,\n",
    "    epochs=50,  \n",
    "    validation_data=validation_generator,\n",
    "    validation_steps=validation_generator.samples // batch_size\n",
    ")\n",
    "\n",
    "# Evaluate the model on the test data\n",
    "test_loss, test_accuracy = model.evaluate(test_generator)\n",
    "print(f\"Test accuracy: {test_accuracy * 100:.2f}%\")"
   ]
  },
  {
   "cell_type": "code",
   "execution_count": null,
   "metadata": {},
   "outputs": [
    {
     "name": "stderr",
     "output_type": "stream",
     "text": [
      "C:\\Users\\heman\\AppData\\Roaming\\Python\\Python311\\site-packages\\keras\\src\\engine\\training.py:3000: UserWarning: You are saving your model as an HDF5 file via `model.save()`. This file format is considered legacy. We recommend using instead the native Keras format, e.g. `model.save('my_model.keras')`.\n",
      "  saving_api.save_model(\n"
     ]
    }
   ],
   "source": [
    "model.save('achawala.h5')"
   ]
  },
  {
   "cell_type": "code",
   "execution_count": null,
   "metadata": {},
   "outputs": [],
   "source": [
    "model = tf.keras.models.load_model('achawala.h5')"
   ]
  },
  {
   "cell_type": "code",
   "execution_count": null,
   "metadata": {},
   "outputs": [
    {
     "name": "stdout",
     "output_type": "stream",
     "text": [
      "Model: \"sequential_3\"\n",
      "_________________________________________________________________\n",
      " Layer (type)                Output Shape              Param #   \n",
      "=================================================================\n",
      " conv2d_7 (Conv2D)           (None, 30, 30, 32)        896       \n",
      "                                                                 \n",
      " max_pooling2d_7 (MaxPoolin  (None, 15, 15, 32)        0         \n",
      " g2D)                                                            \n",
      "                                                                 \n",
      " conv2d_8 (Conv2D)           (None, 13, 13, 64)        18496     \n",
      "                                                                 \n",
      " max_pooling2d_8 (MaxPoolin  (None, 6, 6, 64)          0         \n",
      " g2D)                                                            \n",
      "                                                                 \n",
      " conv2d_9 (Conv2D)           (None, 4, 4, 128)         73856     \n",
      "                                                                 \n",
      " max_pooling2d_9 (MaxPoolin  (None, 2, 2, 128)         0         \n",
      " g2D)                                                            \n",
      "                                                                 \n",
      " flatten_3 (Flatten)         (None, 512)               0         \n",
      "                                                                 \n",
      " dense_6 (Dense)             (None, 128)               65664     \n",
      "                                                                 \n",
      " dense_7 (Dense)             (None, 2)                 258       \n",
      "                                                                 \n",
      "=================================================================\n",
      "Total params: 159170 (621.76 KB)\n",
      "Trainable params: 159170 (621.76 KB)\n",
      "Non-trainable params: 0 (0.00 Byte)\n",
      "_________________________________________________________________\n"
     ]
    }
   ],
   "source": [
    "model.summary()"
   ]
  },
  {
   "cell_type": "code",
   "execution_count": null,
   "metadata": {},
   "outputs": [
    {
     "ename": "NameError",
     "evalue": "name 'test_generator' is not defined",
     "output_type": "error",
     "traceback": [
      "\u001b[1;31m---------------------------------------------------------------------------\u001b[0m",
      "\u001b[1;31mNameError\u001b[0m                                 Traceback (most recent call last)",
      "Cell \u001b[1;32mIn[5], line 1\u001b[0m\n\u001b[1;32m----> 1\u001b[0m test_loss, test_accuracy \u001b[38;5;241m=\u001b[39m model\u001b[38;5;241m.\u001b[39mevaluate(\u001b[43mtest_generator\u001b[49m)\n\u001b[0;32m      2\u001b[0m \u001b[38;5;28mprint\u001b[39m(\u001b[38;5;124mf\u001b[39m\u001b[38;5;124m\"\u001b[39m\u001b[38;5;124mTest accuracy: \u001b[39m\u001b[38;5;132;01m{\u001b[39;00mtest_accuracy\u001b[38;5;250m \u001b[39m\u001b[38;5;241m*\u001b[39m\u001b[38;5;250m \u001b[39m\u001b[38;5;241m100\u001b[39m\u001b[38;5;132;01m:\u001b[39;00m\u001b[38;5;124m.2f\u001b[39m\u001b[38;5;132;01m}\u001b[39;00m\u001b[38;5;124m%\u001b[39m\u001b[38;5;124m\"\u001b[39m)\n",
      "\u001b[1;31mNameError\u001b[0m: name 'test_generator' is not defined"
     ]
    }
   ],
   "source": [
    "test_loss, test_accuracy = model.evaluate(test_generator)\n",
    "print(f\"Test accuracy: {test_accuracy * 100:.2f}%\")"
   ]
  },
  {
   "cell_type": "code",
   "execution_count": null,
   "metadata": {},
   "outputs": [
    {
     "data": {
      "text/plain": [
       "(99, 97, 3)"
      ]
     },
     "execution_count": 9,
     "metadata": {},
     "output_type": "execute_result"
    }
   ],
   "source": [
    "import cv2\n",
    "img=cv2.imread(r'Data - Copy\\test\\Non-Anemic\\Non-anemic-Fin-004.png')\n",
    "img.shape"
   ]
  },
  {
   "cell_type": "code",
   "execution_count": null,
   "metadata": {},
   "outputs": [
    {
     "data": {
      "text/plain": [
       "(32, 32, 3)"
      ]
     },
     "execution_count": 7,
     "metadata": {},
     "output_type": "execute_result"
    }
   ],
   "source": [
    "# scale it to 32x32\n",
    "img=cv2.resize(img,(32,32))\n",
    "# normalize it\n",
    "img=img/255\n",
    "img.shape"
   ]
  },
  {
   "cell_type": "code",
   "execution_count": null,
   "metadata": {},
   "outputs": [
    {
     "name": "stdout",
     "output_type": "stream",
     "text": [
      "1/1 [==============================] - 0s 96ms/step\n"
     ]
    },
    {
     "data": {
      "text/plain": [
       "array([[0.9040619 , 0.09593809]], dtype=float32)"
      ]
     },
     "execution_count": 8,
     "metadata": {},
     "output_type": "execute_result"
    }
   ],
   "source": [
    "ans=model.predict(img.reshape(1,32,32,3))\n",
    "ans"
   ]
  },
  {
   "cell_type": "code",
   "execution_count": null,
   "metadata": {},
   "outputs": [],
   "source": [
    "def usemodel(img):\n",
    "    img=cv2.resize(img,(32,32))\n",
    "    img=img/255\n",
    "    ans=model.predict(img.reshape(1,32,32,3))\n",
    "    if ans[0][0]>ans[0][1]:\n",
    "        return \"Non-Anemic\"\n",
    "    else:\n",
    "        return \"Anemic\""
   ]
  },
  {
   "cell_type": "code",
   "execution_count": null,
   "metadata": {},
   "outputs": [
    {
     "name": "stdout",
     "output_type": "stream",
     "text": [
      "1/1 [==============================] - 0s 18ms/step\n"
     ]
    },
    {
     "data": {
      "text/plain": [
       "'Non-Anemic'"
      ]
     },
     "execution_count": 23,
     "metadata": {},
     "output_type": "execute_result"
    }
   ],
   "source": [
    "usemodel(img)"
   ]
  },
  {
   "cell_type": "code",
   "execution_count": null,
   "metadata": {},
   "outputs": [],
   "source": []
  }
 ],
 "metadata": {
  "kernelspec": {
   "display_name": "Python 3",
   "language": "python",
   "name": "python3"
  },
  "language_info": {
   "codemirror_mode": {
    "name": "ipython",
    "version": 3
   },
   "file_extension": ".py",
   "mimetype": "text/x-python",
   "name": "python",
   "nbconvert_exporter": "python",
   "pygments_lexer": "ipython3",
   "version": "3.11.4"
  }
 },
 "nbformat": 4,
 "nbformat_minor": 2
}
